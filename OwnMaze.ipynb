{
  "nbformat": 4,
  "nbformat_minor": 0,
  "metadata": {
    "colab": {
      "provenance": []
    },
    "kernelspec": {
      "name": "python3",
      "display_name": "Python 3"
    },
    "language_info": {
      "name": "python"
    }
  },
  "cells": [
    {
      "cell_type": "code",
      "execution_count": null,
      "metadata": {
        "id": "4uc3PD-Rdc1R"
      },
      "outputs": [],
      "source": [
        "import random\n",
        "import numpy as np\n",
        "import matplotlib.pyplot as plt\n",
        "from collections import deque, namedtuple"
      ]
    },
    {
      "cell_type": "code",
      "source": [
        "m = 5\n",
        "n = 5\n",
        "nodes = []\n",
        "for row in range(m):\n",
        "    for col in range(n):\n",
        "        nodes.append((row, col))\n",
        "\n",
        "print(nodes)\n",
        "\n"
      ],
      "metadata": {
        "colab": {
          "base_uri": "https://localhost:8080/"
        },
        "id": "kC4JoGNVdd8Y",
        "outputId": "8d0183ae-8da2-43b8-99fa-af96dd183afc"
      },
      "execution_count": null,
      "outputs": [
        {
          "output_type": "stream",
          "name": "stdout",
          "text": [
            "[(0, 0), (0, 1), (0, 2), (0, 3), (0, 4), (1, 0), (1, 1), (1, 2), (1, 3), (1, 4), (2, 0), (2, 1), (2, 2), (2, 3), (2, 4), (3, 0), (3, 1), (3, 2), (3, 3), (3, 4), (4, 0), (4, 1), (4, 2), (4, 3), (4, 4)]\n"
          ]
        }
      ]
    },
    {
      "cell_type": "code",
      "source": [
        "def nbrs4(square):\n",
        "  x = square[0]\n",
        "  y = square[1]\n",
        "  nbrs_theo = [(x + 1, y), (x - 1, y), (x, y + 1), (x, y - 1)]\n",
        "  nbrs = [i for i in nbrs_theo if i[0] >= 0 and i[1] >= 0 and i[0] < m and i[1] < n ]\n",
        "  return nbrs\n"
      ],
      "metadata": {
        "id": "3UfT0T1zfIHU"
      },
      "execution_count": null,
      "outputs": []
    },
    {
      "cell_type": "code",
      "source": [
        "nbrs4((0,0))"
      ],
      "metadata": {
        "colab": {
          "base_uri": "https://localhost:8080/"
        },
        "id": "e7WE3UiykFVg",
        "outputId": "749e3861-66f4-4f9c-c964-b6e9a881b828"
      },
      "execution_count": null,
      "outputs": [
        {
          "output_type": "execute_result",
          "data": {
            "text/plain": [
              "[(1, 0), (0, 1)]"
            ]
          },
          "metadata": {},
          "execution_count": 22
        }
      ]
    },
    {
      "cell_type": "code",
      "source": [
        "tree = [(0,0)]\n",
        "frontier = [] #This is stack\n",
        "\n",
        "def edge(A, B):\n",
        "  return(sorted([A, B]))\n",
        "\n",
        "j = 0\n",
        "while nodes:\n",
        "\n",
        "  for i in range(len(nbrs4(tree[j]))):\n",
        "   frontier.append(nbrs4(tree[j])[i])\n",
        "\n",
        "  random.shuffle(frontier)\n",
        "  print(\"Frontier\")\n",
        "  print(frontier)\n",
        "\n",
        "  frontier_new =  [sub for sub in frontier if sub not in tree]\n",
        "\n",
        "  print(\"Frontier new\")\n",
        "  print(frontier_new)\n",
        "\n",
        "\n",
        "\n",
        "  if not frontier_new or tree[j] == (m-1,n-1):\n",
        "    #Check which node in the tree has valid nbrs and revert back till there\n",
        "    l = 0\n",
        "    for k in reversed(tree):\n",
        "      l += 1\n",
        "      list_difference = []\n",
        "\n",
        "      for i in range(len(nbrs4(k))):\n",
        "\n",
        "       if nbrs4(k)[i] not in tree:\n",
        "        list_difference.append(nbrs4(k)[i]) #Compare the dissimilar elements in nbrs\n",
        "                                         #and tree and see if a node has possible\n",
        "       if len(list_difference) != 0:\n",
        "         break\n",
        "                                      #elements that can be added to tree\n",
        "      else:\n",
        "         continue                           #note the node index (to which we need to go)\n",
        "      break\n",
        "\n",
        "    print(\"Revert back to\",l+1, \"th node from the end\")\n",
        "    frontier = []\n",
        "    for i in range(len(nbrs4(tree[j-l+1]))):\n",
        "     frontier.append(nbrs4(tree[j-l+1])[i])\n",
        "    random.shuffle(frontier)\n",
        "    print(\"Frontier\")\n",
        "    print(frontier)\n",
        "\n",
        "    frontier_new =  [sub for sub in frontier if sub not in tree]\n",
        "\n",
        "    print(\"Frontier new\")\n",
        "    print(frontier_new)\n",
        "\n",
        "\n",
        "  new_node = frontier_new.pop() #Accessing last element of frontier_new\n",
        "                                # Which is anyways a random element in frontier\n",
        "  for i in tree:\n",
        "     if(i == new_node):\n",
        "      dump = new_node\n",
        "  frontier = []\n",
        "  frontier_new=[]\n",
        "\n",
        "  tree.append(new_node)\n",
        "\n",
        "  print(\"Tree:\")\n",
        "  print(tree)\n",
        "\n",
        "  nodes =  [sub for sub in nodes if sub not in tree]\n",
        "\n",
        "  print(\"Nodes:\")\n",
        "  print(nodes)\n",
        "\n",
        "  print(\"\\n\")\n",
        "  j +=1\n",
        "\n",
        "#Every neighbouring tuples form an edge\n",
        "maze_edges = []\n",
        "for i in range(len(tree)-1):\n",
        "  maze_edges.append(edge(tree[i],tree[i+1]))\n",
        "\n",
        "\n",
        "\n"
      ],
      "metadata": {
        "id": "jvE-FrLUKzyH"
      },
      "execution_count": null,
      "outputs": []
    },
    {
      "cell_type": "code",
      "source": [
        "def nbrtest(A,B):\n",
        "  yes = 0\n",
        "  for i in nbrs4(A):\n",
        "    if i == B:\n",
        "      yes = 1\n",
        "  if yes == 1:\n",
        "    return 1\n",
        "  else:\n",
        "    return 0"
      ],
      "metadata": {
        "id": "HA5dk6FnZ9yn"
      },
      "execution_count": null,
      "outputs": []
    },
    {
      "cell_type": "code",
      "source": [
        "maze = []\n",
        "for i in range(len(tree)-1):\n",
        "\n",
        "  if nbrtest(tree[i],tree[i+1]): #while adjacent nodes in tree are nbrs\n",
        "   maze.append(edge(tree[i],tree[i+1])) #Keep adding edges consecutively\n",
        "  else:\n",
        "    for j in range(i):               #If adjacent nodes are not nbrs\n",
        "     if nbrtest(tree[i-j],tree[i+1]): #go back and check which node is nbrs to i+1\n",
        "       maze.append(edge(tree[i-j],tree[i+1])) #add this edge to the maze, nxt loop\n",
        "                                               #continues like before\n",
        "\n",
        "\n",
        "maze_tuples = list(map(tuple, maze))\n",
        "print(maze_tuples)\n"
      ],
      "metadata": {
        "colab": {
          "base_uri": "https://localhost:8080/"
        },
        "id": "ad6FKPVMR-Dd",
        "outputId": "70d96166-00af-4d04-cf30-7a9c12ffc713"
      },
      "execution_count": null,
      "outputs": [
        {
          "output_type": "stream",
          "name": "stdout",
          "text": [
            "[((0, 0), (1, 0)), ((1, 0), (2, 0)), ((2, 0), (2, 1)), ((2, 1), (3, 1)), ((3, 1), (3, 2)), ((2, 2), (3, 2)), ((1, 2), (2, 2)), ((1, 1), (1, 2)), ((0, 1), (1, 1)), ((0, 1), (0, 2)), ((0, 2), (0, 3)), ((0, 3), (0, 4)), ((0, 4), (1, 4)), ((1, 3), (1, 4)), ((1, 3), (2, 3)), ((2, 3), (3, 3)), ((3, 3), (3, 4)), ((2, 4), (3, 4)), ((3, 4), (4, 4)), ((4, 3), (4, 4)), ((4, 2), (4, 3)), ((4, 1), (4, 2)), ((4, 0), (4, 1)), ((3, 0), (4, 0))]\n"
          ]
        }
      ]
    },
    {
      "cell_type": "code",
      "source": [
        "Maze = namedtuple('Maze', ['width', 'height', 'edges'])\n",
        "details = [m, n, maze_tuples]\n",
        "e1 = Maze._make(details)\n",
        "print(e1)\n"
      ],
      "metadata": {
        "colab": {
          "base_uri": "https://localhost:8080/"
        },
        "id": "gkh-fFJNdKN3",
        "outputId": "034d01bc-78f8-4544-8bbf-f4f7d55103b4"
      },
      "execution_count": null,
      "outputs": [
        {
          "output_type": "stream",
          "name": "stdout",
          "text": [
            "Maze(width=5, height=5, edges=[((0, 0), (1, 0)), ((1, 0), (2, 0)), ((2, 0), (2, 1)), ((2, 1), (3, 1)), ((3, 1), (3, 2)), ((2, 2), (3, 2)), ((1, 2), (2, 2)), ((1, 1), (1, 2)), ((0, 1), (1, 1)), ((0, 1), (0, 2)), ((0, 2), (0, 3)), ((0, 3), (0, 4)), ((0, 4), (1, 4)), ((1, 3), (1, 4)), ((1, 3), (2, 3)), ((2, 3), (3, 3)), ((3, 3), (3, 4)), ((2, 4), (3, 4)), ((3, 4), (4, 4)), ((4, 3), (4, 4)), ((4, 2), (4, 3)), ((4, 1), (4, 2)), ((4, 0), (4, 1)), ((3, 0), (4, 0))])\n"
          ]
        }
      ]
    },
    {
      "cell_type": "markdown",
      "source": [
        "PLOTTING THE MAZE"
      ],
      "metadata": {
        "id": "C0DbaJ6qf0vy"
      }
    },
    {
      "cell_type": "code",
      "source": [
        "def grid(width, height):\n",
        "    \"\"\"All squares in a grid of these dimensions.\"\"\"\n",
        "    return {(x, y) for x in range(width) for y in range(height)}"
      ],
      "metadata": {
        "id": "kUdl7ZC5gVed"
      },
      "execution_count": null,
      "outputs": []
    },
    {
      "cell_type": "code",
      "source": [
        "%matplotlib inline\n",
        "import matplotlib.pyplot as plt\n",
        "\n",
        "def plot_maze(maze, figsize=None, path=None):\n",
        "    \"\"\"Plot a maze by drawing lines between adjacent squares, except for pairs in maze.edges\"\"\"\n",
        "    w, h  = maze.width, maze.height\n",
        "    plt.figure(figsize=figsize or (w/5, h/5))\n",
        "\n",
        "    plt.gca().invert_yaxis()\n",
        "    plt.axis('off')\n",
        "\n",
        "    plt.xticks([])\n",
        "    plt.yticks([])\n",
        "\n",
        "    edges = maze.edges\n",
        "    for sq in grid(w, h):\n",
        "        for nbr in nbrs4(sq):\n",
        "            if tuple(edge(sq, nbr)) not in edges:\n",
        "              plot_wall(sq, nbr)\n",
        "    for i in range(n):\n",
        "      left, right = [0,0], [i,i+1]\n",
        "      plt.plot(left, right, 'k-', linewidth=2)\n",
        "    for i in range(m):\n",
        "      left, right = [i,i+1], [0,0]\n",
        "      plt.plot(left, right, 'k-', linewidth=2)\n",
        "    for i in range(m):\n",
        "      left, right = [i,i+1], [n,n]\n",
        "      plt.plot(left, right, 'k-', linewidth=2)\n",
        "    for i in range(n):\n",
        "      left, right = [n,n], [i,i+1]\n",
        "      plt.plot(left, right, 'k-', linewidth=2)\n",
        "\n",
        "    if path: # Plot the solution (or any path) as a red line through the maze\n",
        "        X, Y = transpose((x + 0.5, y + 0.5) for (x, y) in path)\n",
        "        plt.plot(X, Y, 'r-', linewidth=2)\n",
        "\n",
        "\n",
        "def transpose(matrix): return list(zip(*matrix))\n",
        "\n",
        "def plot_wall(s1, s2):\n",
        "    \"\"\"Plot a wall: a black line between squares s1 and s2.\"\"\"\n",
        "    (x1, y1), (x2, y2) = s1, s2\n",
        "    if x1 == x2: # horizontal wall\n",
        "        y = max(y1, y2)\n",
        "        X, Y = [x1, x1+1], [y, y]\n",
        "    else: # vertical wall\n",
        "        x = max(x1, x2)\n",
        "        X, Y = [x, x], [y1, y1+1]\n",
        "    plt.plot(X, Y, 'k-', linewidth=2)"
      ],
      "metadata": {
        "id": "MgOkvSBQc8HR"
      },
      "execution_count": null,
      "outputs": []
    },
    {
      "cell_type": "code",
      "source": [
        "\n",
        "plot_maze(e1, figsize=(5, 5))\n"
      ],
      "metadata": {
        "colab": {
          "base_uri": "https://localhost:8080/",
          "height": 303
        },
        "id": "JjQEJNxUgewC",
        "outputId": "171a928a-cbe6-432f-c599-385e3b519f32"
      },
      "execution_count": null,
      "outputs": [
        {
          "output_type": "display_data",
          "data": {
            "text/plain": [
              "<Figure size 360x360 with 1 Axes>"
            ],
            "image/png": "[encoded data removed]"
          },
          "metadata": {}
        }
      ]
    },
    {
      "cell_type": "code",
      "source": [
        "def breadth_first_search(maze):\n",
        "    \"\"\"Find a shortest sequence of states from start to the goal.\"\"\"\n",
        "    start = (0, 0)\n",
        "    goal = (maze.width - 1, maze.height - 1)\n",
        "    frontier = deque([start])\n",
        "    print(frontier)  # A queue of states to consider\n",
        "    paths = {start: [start]}   # start has a one-square path\n",
        "    print(paths)\n",
        "    while frontier:\n",
        "        s = frontier.pop()\n",
        "        if s == goal:\n",
        "            return paths[s]\n",
        "        for s2 in nbrs4(s):\n",
        "            if s2 not in paths and edge(s, s2) in maze.edges:\n",
        "                frontier.append(s2)\n",
        "                paths[s2] = paths.get(s, []) + [s2]"
      ],
      "metadata": {
        "id": "IxIA0u0ttD_e"
      },
      "execution_count": null,
      "outputs": []
    },
    {
      "cell_type": "code",
      "source": [
        "solution = breadth_first_search(e1)\n",
        "print(solution)"
      ],
      "metadata": {
        "colab": {
          "base_uri": "https://localhost:8080/"
        },
        "id": "EGftKab5tHeP",
        "outputId": "763ddba5-5a1e-4e27-97cf-e11df3aa6fe3"
      },
      "execution_count": null,
      "outputs": [
        {
          "output_type": "stream",
          "name": "stdout",
          "text": [
            "deque([(0, 0)])\n",
            "{(0, 0): [(0, 0)]}\n",
            "None\n"
          ]
        }
      ]
    },
    {
      "cell_type": "code",
      "source": [
        "plot_maze(e1, figsize=(5, 5), path=solution)"
      ],
      "metadata": {
        "colab": {
          "base_uri": "https://localhost:8080/",
          "height": 303
        },
        "id": "1P1meCiQrdv2",
        "outputId": "c201855c-6d5e-4970-89d7-ea949a3ed706"
      },
      "execution_count": null,
      "outputs": [
        {
          "output_type": "display_data",
          "data": {
            "text/plain": [
              "<Figure size 360x360 with 1 Axes>"
            ],
            "image/png": "[encoded data removed]"
          },
          "metadata": {}
        }
      ]
    },
    {
      "cell_type": "markdown",
      "source": [
        "Solving maze\n"
      ],
      "metadata": {
        "id": "uaf_ThjlN5Uj"
      }
    },
    {
      "cell_type": "code",
      "source": [
        "def heurestic(square):\n",
        "  dis = abs(square[0] - (m-1)) + abs(square[1] - (n-1))\n",
        "  return dis"
      ],
      "metadata": {
        "id": "-gFWASqzN6nC"
      },
      "execution_count": null,
      "outputs": []
    },
    {
      "cell_type": "code",
      "source": [
        "graph_nodes = []\n",
        "for row in range(m):\n",
        "    for col in range(n):\n",
        "        graph_nodes.append((row, col))\n",
        "\n",
        "print(graph_nodes)"
      ],
      "metadata": {
        "colab": {
          "base_uri": "https://localhost:8080/"
        },
        "id": "pMsmzbq2O0DN",
        "outputId": "52d4b88f-4b91-4444-857c-beede9abc7fa"
      },
      "execution_count": null,
      "outputs": [
        {
          "output_type": "stream",
          "name": "stdout",
          "text": [
            "[(0, 0), (0, 1), (0, 2), (0, 3), (0, 4), (1, 0), (1, 1), (1, 2), (1, 3), (1, 4), (2, 0), (2, 1), (2, 2), (2, 3), (2, 4), (3, 0), (3, 1), (3, 2), (3, 3), (3, 4), (4, 0), (4, 1), (4, 2), (4, 3), (4, 4)]\n"
          ]
        }
      ]
    },
    {
      "cell_type": "code",
      "source": [
        "dicts = {}\n",
        "keys = range(4)\n",
        "values = [\"Hi\", \"I\", \"am\", \"John\"]\n",
        "for i in keys:\n",
        "        dicts[i] = values[i]\n",
        "print(dicts)"
      ],
      "metadata": {
        "colab": {
          "base_uri": "https://localhost:8080/"
        },
        "id": "lZqXkYrEPRzQ",
        "outputId": "99b5a2bf-a336-4b20-adc6-58e67ebef8e0"
      },
      "execution_count": null,
      "outputs": [
        {
          "output_type": "stream",
          "name": "stdout",
          "text": [
            "{0: 'Hi', 1: 'I', 2: 'am', 3: 'John'}\n"
          ]
        }
      ]
    },
    {
      "cell_type": "code",
      "source": [
        "# for i in range(len(graph_nodes)):\n",
        "#    values = []\n",
        "#    for j in range(len(nbrs4(graph_nodes[i]))):\n",
        "#      if nbrs4(graph_nodes[i][j]) in tree:\n",
        "#        entries = [nbrs4(graph_nodes[i][j])]\n",
        "#        values.append(entries)\n",
        "\n",
        "\n"
      ],
      "metadata": {
        "id": "9zUww5kgVsRJ"
      },
      "execution_count": null,
      "outputs": []
    },
    {
      "cell_type": "code",
      "source": [
        "graph = {'A': {'B': 1}, 'B': {'A': 1, 'C': 1}, 'C': {'H': 1, 'B': 1},\n",
        "         'D': {'E':1}, 'E': {'D':1,'J':1},\n",
        "         'F': {'G':1,'K':1}, 'G': {'F':1,'L':1}, 'H': {'C':1,'I':1},\n",
        "         'I': {'H':1,'N':1}, 'J': {'E':1,'O':1}, 'K': {'L':1,'F':1}, 'L': {'G':1,'M':1},\n",
        "         'M': {'L':1,'N':1}, 'N': {'I':1,'M':1}, 'O': {'J':1,'T':1}, 'P': {'K':1,'U':1},\n",
        "         'Q': {'R':1,'V':1}, 'R':{'Q':1,'S':1}, 'S':{'R':1,'N':1, 'X':1}, 'T':{'O':1,'Y':1}, 'U':{'P':1,'V':1},\n",
        "         'V': {'U':1,'Q':1}, 'W':{'X':1}, 'X':{'S':1,'W':1}, 'Y':{'T':1, 'X':1} }"
      ],
      "metadata": {
        "id": "YKWSMCJcZiIE"
      },
      "execution_count": null,
      "outputs": []
    },
    {
      "cell_type": "code",
      "source": [
        "heurestic = {'A': }"
      ],
      "metadata": {
        "id": "gsc1MpCx1GmY"
      },
      "execution_count": null,
      "outputs": []
    },
    {
      "cell_type": "code",
      "source": [
        "solution =[(0,0),(1,0),(2,0),(2,1),(3,1),(3,2),(2,2),(1,2),(1,1),(0,1),(0,2),(0,3),(0,4),(1,4),(1,3),(2,3),(3,3),(3,4),(4,4)]"
      ],
      "metadata": {
        "id": "bWaz1oAK3fS_"
      },
      "execution_count": null,
      "outputs": []
    },
    {
      "cell_type": "code",
      "source": [
        "plot_maze(e1, figsize=(5, 5), path=solution)"
      ],
      "metadata": {
        "colab": {
          "base_uri": "https://localhost:8080/",
          "height": 303
        },
        "id": "LiTZyEwe4Lu3",
        "outputId": "6a1a137b-ebd2-4390-fd0e-bd6c5473e123"
      },
      "execution_count": null,
      "outputs": [
        {
          "output_type": "display_data",
          "data": {
            "text/plain": [
              "<Figure size 360x360 with 1 Axes>"
            ],
            "image/png": "[encoded data removed]"
          },
          "metadata": {}
        }
      ]
    },
    {
      "cell_type": "code",
      "source": [
        "open_list = ['A']\n",
        "closed_list = []\n",
        "print(open_list)"
      ],
      "metadata": {
        "colab": {
          "base_uri": "https://localhost:8080/"
        },
        "id": "nKY0EYLM4YN2",
        "outputId": "cbb1a8d9-55e0-44ce-e1c6-30a186de93ca"
      },
      "execution_count": null,
      "outputs": [
        {
          "output_type": "stream",
          "name": "stdout",
          "text": [
            "['A']\n"
          ]
        }
      ]
    },
    {
      "cell_type": "code",
      "source": [
        "for i in graph:\n",
        "  a = open_list.pop()\n",
        "  open_list.append(graph[i])\n",
        "  closed_list.append(a)\n"
      ],
      "metadata": {
        "id": "TAIAPs3T44fy"
      },
      "execution_count": null,
      "outputs": []
    }
  ]
}